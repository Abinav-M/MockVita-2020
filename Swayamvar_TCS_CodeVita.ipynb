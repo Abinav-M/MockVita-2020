{
  "nbformat": 4,
  "nbformat_minor": 0,
  "metadata": {
    "colab": {
      "name": "Swayamvar-TCS-CodeVita.ipynb",
      "provenance": [],
      "collapsed_sections": [],
      "authorship_tag": "ABX9TyPKrncCUQcYfCeJK7NUA3rO",
      "include_colab_link": true
    },
    "kernelspec": {
      "name": "python3",
      "display_name": "Python 3"
    }
  },
  "cells": [
    {
      "cell_type": "markdown",
      "metadata": {
        "id": "view-in-github",
        "colab_type": "text"
      },
      "source": [
        "<a href=\"https://colab.research.google.com/github/Abinav-M/MockVita-2020/blob/master/Swayamvar_TCS_CodeVita.ipynb\" target=\"_parent\"><img src=\"https://colab.research.google.com/assets/colab-badge.svg\" alt=\"Open In Colab\"/></a>"
      ]
    },
    {
      "cell_type": "code",
      "metadata": {
        "colab_type": "code",
        "id": "xVdVaRlCwTpE",
        "colab": {
          "base_uri": "https://localhost:8080/",
          "height": 85
        },
        "outputId": "66b73a2f-9c2a-4873-a103-83324acfe8b2"
      },
      "source": [
        "N=int(input(\"Enter the Number of bridesa and grooms: \"))     #Number of brides and grooms \n",
        "state_brides=input() #\"Enter initial state of brides-to-be: \" ## r = rum and m = mojito\n",
        "state_grooms=input() #\"Enter initial state of groom-to-be: \"\n",
        "\n",
        "# print('Initial State of bride is ', state_brides)\n",
        "# print('Initial State of groom is ', state_grooms)\n",
        "\n",
        "married=0\n",
        "reject=''\n",
        "prev_state_brides=''\n",
        "prev_state_grooms=''\n",
        "\n",
        "if len(state_brides) ==  len(state_grooms) and len(state_brides) == N:\n",
        "\n",
        "    while True:\n",
        "\n",
        "        if state_brides=='' or state_grooms=='':\n",
        "            break\n",
        "        \n",
        "\n",
        "        elif state_brides[0] == state_grooms[0]:\n",
        "            \n",
        "            state_brides=state_brides.replace(state_brides[0], '', 1) #since the bride and groom have matched they are removed from the queue\n",
        "            state_grooms=state_grooms.replace(state_grooms[0], '', 1)\n",
        "            \n",
        "            married+=1\n",
        "        \n",
        "        elif state_brides[0] != state_grooms[0]:\n",
        "\n",
        "            reject=state_grooms[0] #the rejected groom is stored\n",
        "            state_grooms=state_grooms.replace(state_grooms[0], '', 1) ##the rejected groom is removed from the first position\n",
        "            state_grooms+=reject  ##first grom is added back at the end of the queue\n",
        "            # print(\"else condition: \", state_grooms)\n",
        "\n",
        "            if prev_state_brides==state_brides and prev_state_grooms==state_grooms: #checks the queue to see if there it is stuck repeatedly and breaks out if true\n",
        "                break\n",
        "        \n",
        "        else:\n",
        "            pass\n",
        "\n",
        "        # print(\"after one loop, brides: \", state_brides)\n",
        "        # print(\"after one loop, grooms: \", state_grooms)\n",
        "        # print()\n",
        "        \n",
        "        prev_state_brides=state_brides # prev state of bride \n",
        "        prev_state_grooms=state_grooms # prev state of groom\n",
        "    \n",
        "unmatch_count=0\n",
        "unmatch_count=N-married\n",
        "# print(\"number of pairs left unmatched: \", unmatch_count)\n",
        "\n",
        "# print(\"final state of brides \", state_brides)\n",
        "# print(\"final state of groom \", state_grooms)\n",
        "\n",
        "print(unmatch_count)"
      ],
      "execution_count": null,
      "outputs": [
        {
          "output_type": "stream",
          "text": [
            "Enter the Number of bridesa and grooms: 4\n",
            "Enter initial state of brides-to-be: rrrm\n",
            "Enter initial state of groom-to-be: mmmr\n",
            "3\n"
          ],
          "name": "stdout"
        }
      ]
    }
  ]
}