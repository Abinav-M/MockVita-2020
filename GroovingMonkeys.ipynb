{
  "nbformat": 4,
  "nbformat_minor": 0,
  "metadata": {
    "colab": {
      "name": "GroovingMonkeys.ipynb",
      "provenance": [],
      "collapsed_sections": [],
      "authorship_tag": "ABX9TyPe3/d1l7u+8lkfDloE43Dx",
      "include_colab_link": true
    },
    "kernelspec": {
      "name": "python3",
      "display_name": "Python 3"
    }
  },
  "cells": [
    {
      "cell_type": "markdown",
      "metadata": {
        "id": "view-in-github",
        "colab_type": "text"
      },
      "source": [
        "<a href=\"https://colab.research.google.com/github/Abinav-M/MockVita-2020/blob/master/GroovingMonkeys.ipynb\" target=\"_parent\"><img src=\"https://colab.research.google.com/assets/colab-badge.svg\" alt=\"Open In Colab\"/></a>"
      ]
    },
    {
      "cell_type": "code",
      "metadata": {
        "id": "0aLH0Tr637QP",
        "colab_type": "code",
        "colab": {
          "base_uri": "https://localhost:8080/",
          "height": 520
        },
        "outputId": "cab414c6-02fb-40a3-e0db-01d4eb903153"
      },
      "source": [
        "t=int(input()) #Number of test cases\n",
        "N=[] #list of number of monkeys\n",
        "monkeys_list=[] #list denoting the dancing pattern\n",
        "for i in range(t):\n",
        "    N.append(int(input()))\n",
        "    monkeys_list.append((input()))\n",
        "\n",
        "# print(\"no of test cases:\", t)\n",
        "# print(\"list of number of monkeys\", N)\n",
        "# print(\"monkeys dancing pattern list\", monkeys_list)\n",
        "# print()\n",
        "\n",
        "\n",
        "def no_of_sec(n, dancing_pattern):   #the input is for each test case\n",
        "    new_pos=[0]*n  # zero list of n\n",
        "    T=0\n",
        "    index=0\n",
        "    check_list=[]\n",
        "    for i in range(len(dancing_pattern)):\n",
        "        dancing_pattern[i]=int(dancing_pattern[i])  ##converting the str elements to int\n",
        "\n",
        "    initial_pos=[]\n",
        "    for i in range(n):\n",
        "        initial_pos.append(i+1)                   ##setting up a list from 1 to max number of monkeys\n",
        "\n",
        "    check_list=initial_pos.copy()\n",
        "    # print(\"initial position= \", initial_pos)  #[1, 2, 3, 4, 5, 6] for n=6\n",
        "    while True:\n",
        "\n",
        "        for i in range(n):\n",
        "            # print(dancing_pattern[i])\n",
        "            index = dancing_pattern[i]-1\n",
        "            new_pos[index]=initial_pos[i]\n",
        "\n",
        "        \n",
        "        initial_pos=new_pos.copy()\n",
        "        # print(\"new postion= \", initial_pos)\n",
        "\n",
        "        new_pos=[0]*n\n",
        "        T+=1  ## T = minimum no of seconds till intial position is reached again\n",
        "        # print(\"T= \",T)\n",
        "\n",
        "        if initial_pos == check_list:\n",
        "            break\n",
        "        else: \n",
        "            pass\n",
        "        \n",
        "    return(T) \n",
        "\n",
        "for i in range(len(monkeys_list)):\n",
        "    monkeys_list[i]=monkeys_list[i].split(' ')\n",
        "\n",
        "# print(monkeys_list)\n",
        "\n",
        "\n",
        "# print(\"OUTPUT\")\n",
        "# print()\n",
        "for i in range(len(monkeys_list)):\n",
        "    print(no_of_sec(N[i],monkeys_list[i])) #f\"testcase_{i+1}: \", \n"
      ],
      "execution_count": null,
      "outputs": [
        {
          "output_type": "stream",
          "text": [
            "4\n",
            "6\n",
            "3 6 5 4 1 2\n",
            "5\n",
            "5 2 1 4 3\n",
            "6\n",
            "3 6 5 4 1 2\n",
            "4\n",
            "8 6 4 1\n",
            "6\n",
            "3\n",
            "6\n"
          ],
          "name": "stdout"
        },
        {
          "output_type": "error",
          "ename": "IndexError",
          "evalue": "ignored",
          "traceback": [
            "\u001b[0;31m---------------------------------------------------------------------------\u001b[0m",
            "\u001b[0;31mIndexError\u001b[0m                                Traceback (most recent call last)",
            "\u001b[0;32m<ipython-input-2-352c6baec071>\u001b[0m in \u001b[0;36m<module>\u001b[0;34m()\u001b[0m\n\u001b[1;32m     57\u001b[0m \u001b[0;31m# print()\u001b[0m\u001b[0;34m\u001b[0m\u001b[0;34m\u001b[0m\u001b[0;34m\u001b[0m\u001b[0m\n\u001b[1;32m     58\u001b[0m \u001b[0;32mfor\u001b[0m \u001b[0mi\u001b[0m \u001b[0;32min\u001b[0m \u001b[0mrange\u001b[0m\u001b[0;34m(\u001b[0m\u001b[0mlen\u001b[0m\u001b[0;34m(\u001b[0m\u001b[0mmonkeys_list\u001b[0m\u001b[0;34m)\u001b[0m\u001b[0;34m)\u001b[0m\u001b[0;34m:\u001b[0m\u001b[0;34m\u001b[0m\u001b[0;34m\u001b[0m\u001b[0m\n\u001b[0;32m---> 59\u001b[0;31m     \u001b[0mprint\u001b[0m\u001b[0;34m(\u001b[0m\u001b[0mno_of_sec\u001b[0m\u001b[0;34m(\u001b[0m\u001b[0mN\u001b[0m\u001b[0;34m[\u001b[0m\u001b[0mi\u001b[0m\u001b[0;34m]\u001b[0m\u001b[0;34m,\u001b[0m\u001b[0mmonkeys_list\u001b[0m\u001b[0;34m[\u001b[0m\u001b[0mi\u001b[0m\u001b[0;34m]\u001b[0m\u001b[0;34m)\u001b[0m\u001b[0;34m)\u001b[0m \u001b[0;31m#f\"testcase_{i+1}: \",\u001b[0m\u001b[0;34m\u001b[0m\u001b[0;34m\u001b[0m\u001b[0m\n\u001b[0m",
            "\u001b[0;32m<ipython-input-2-352c6baec071>\u001b[0m in \u001b[0;36mno_of_sec\u001b[0;34m(n, dancing_pattern)\u001b[0m\n\u001b[1;32m     31\u001b[0m             \u001b[0;31m# print(dancing_pattern[i])\u001b[0m\u001b[0;34m\u001b[0m\u001b[0;34m\u001b[0m\u001b[0;34m\u001b[0m\u001b[0m\n\u001b[1;32m     32\u001b[0m             \u001b[0mindex\u001b[0m \u001b[0;34m=\u001b[0m \u001b[0mdancing_pattern\u001b[0m\u001b[0;34m[\u001b[0m\u001b[0mi\u001b[0m\u001b[0;34m]\u001b[0m\u001b[0;34m-\u001b[0m\u001b[0;36m1\u001b[0m\u001b[0;34m\u001b[0m\u001b[0;34m\u001b[0m\u001b[0m\n\u001b[0;32m---> 33\u001b[0;31m             \u001b[0mnew_pos\u001b[0m\u001b[0;34m[\u001b[0m\u001b[0mindex\u001b[0m\u001b[0;34m]\u001b[0m\u001b[0;34m=\u001b[0m\u001b[0minitial_pos\u001b[0m\u001b[0;34m[\u001b[0m\u001b[0mi\u001b[0m\u001b[0;34m]\u001b[0m\u001b[0;34m\u001b[0m\u001b[0;34m\u001b[0m\u001b[0m\n\u001b[0m\u001b[1;32m     34\u001b[0m \u001b[0;34m\u001b[0m\u001b[0m\n\u001b[1;32m     35\u001b[0m \u001b[0;34m\u001b[0m\u001b[0m\n",
            "\u001b[0;31mIndexError\u001b[0m: list assignment index out of range"
          ]
        }
      ]
    }
  ]
}